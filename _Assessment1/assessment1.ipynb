{
 "cells": [
  {
   "cell_type": "markdown",
   "metadata": {},
   "source": [
    "<div align=\"right\"><sub>Advanced Algorithms, Semester 2, 2020</sub>\n",
    "</div>\n",
    "\n",
    "\n",
    "# Assessment 1\n",
    "Due Date: Friday, September 4th, 5pm.\n",
    "\n",
    "Value: 25% of course mark\n",
    "\n",
    "Every numbered task is worth 1 mark.\n",
    "\n",
    "---\n",
    "\n",
    "\n",
    "##### Learning outcomes\n",
    "- <font size=\"1\">Critically evaluate the ecosystem of algorithmic tools available to solve complex computational problems in a variety of disciplines.</font>\n",
    "- <font size=\"1\">Choose and implement state-of-the-art algorithms and data structures solutions for a variety of computational problems.</font>\n",
    "- <font size=\"1\">Critically judge algorithmic performance and push for optimization of computational resources.</font>"
   ]
  },
  {
   "cell_type": "markdown",
   "metadata": {},
   "source": [
    "## Algorithm Analysis\n",
    "\n",
    "<ol start=\"1\">\n",
    "\n",
    "<li>\n",
    "Carry out an experiment to evaluate the running time of the `contains` operation (as in: `variable in containerDataStructure`) in the `set` and the `tuple` container data structures of Python and plot the results of your analysis. What is the order of growth of the `contains` operation in the `set` Python data structure?\n",
    "</li></ol>"
   ]
  },
  {
   "cell_type": "code",
   "execution_count": 4,
   "metadata": {},
   "outputs": [
    {
     "data": {
      "image/png": "[encoded data removed]",
      "text/plain": [
       "<Figure size 432x288 with 1 Axes>"
      ]
     },
     "metadata": {
      "needs_background": "light"
     },
     "output_type": "display_data"
    }
   ],
   "source": [
    "import timeit\n",
    "import random\n",
    "import matplotlib.pyplot as plt\n",
    "   \n",
    "listSizeStart = 10000\n",
    "listSizeEnd = 1000001\n",
    "stepSize = 100000\n",
    "pzList = []\n",
    "ptList = []\n",
    " \n",
    "for i in range(listSizeStart,listSizeEnd,stepSize):\n",
    "    t = timeit.Timer(\"random.randrange(%d) in x\"%i,\"from __main__ import random,x\")\n",
    "    x = set(range(i)) #Create a set\n",
    "    lst_time = t.timeit(number=1000)\n",
    "    pzList.append(lst_time)\n",
    "    x = tuple(range(i)) #Create a Tuple\n",
    "    d_time = t.timeit(number=1000)\n",
    "    ptList.append(d_time)   \n",
    "# b+ is for \"blue cross\"\n",
    "plt.plot(range(listSizeStart,listSizeEnd,stepSize), ptList, 'b+', label='Tuple')\n",
    "# \"bo\" is for \"blue dot\"\n",
    "plt.plot(range(listSizeStart,listSizeEnd,stepSize), pzList, 'bo', label='Set')\n",
    "plt.ylabel('Growth of Set')\n",
    "plt.xlabel('Growth of Tuple')\n",
    "plt.legend()\n",
    "plt.xticks(range(listSizeStart,listSizeEnd,stepSize))\n",
    "plt.xticks(rotation=50)\n",
    "plt.show()\n"
   ]
  },
  {
   "cell_type": "markdown",
   "metadata": {},
   "source": [
    "The order of growth of contains is logarihmic as it matained the same running time accross all itterations of the set"
   ]
  },
  {
   "cell_type": "markdown",
   "metadata": {},
   "source": [
    "## Differential calculus\n",
    "\n",
    "Imagine that New Zealand had a single tax rate for income. That is, everyone would pay the same tax rate regardless of how much money they make. Let's also assume that the total government revenue from taxable income (i.e. how much the government coffers collect from taxes) is well modeled by a function $f(x)$ of the taxable rate ($x$) parameterized as: \n",
    "\n",
    "$$\\large f(x)=1000 \\times 2.71^{(\\frac{-(0.8x-30)^2}{2\\times 0.1^2})}$$\n",
    "\n",
    "Once again, that function describes how much money the government collects $f(x)$ as a function of a numerical tax rate $x$.\n",
    "\n",
    "Let's plot the function $f(x)$:"
   ]
  },
  {
   "cell_type": "code",
   "execution_count": 2,
   "metadata": {},
   "outputs": [
    {
     "data": {
      "image/png": "[encoded data removed]",
      "text/plain": [
       "<Figure size 432x288 with 1 Axes>"
      ]
     },
     "metadata": {
      "needs_background": "light"
     },
     "output_type": "display_data"
    },
    {
     "ename": "ValueError",
     "evalue": "The truth value of an array with more than one element is ambiguous. Use a.any() or a.all()",
     "output_type": "error",
     "traceback": [
      "\u001b[1;31m---------------------------------------------------------------------------\u001b[0m",
      "\u001b[1;31mValueError\u001b[0m                                Traceback (most recent call last)",
      "\u001b[1;32m<ipython-input-2-ce8c1969bf72>\u001b[0m in \u001b[0;36m<module>\u001b[1;34m\u001b[0m\n\u001b[0;32m     19\u001b[0m \u001b[0mplt\u001b[0m\u001b[1;33m.\u001b[0m\u001b[0mshow\u001b[0m\u001b[1;33m(\u001b[0m\u001b[0mplt\u001b[0m\u001b[1;33m.\u001b[0m\u001b[0mplot\u001b[0m\u001b[1;33m(\u001b[0m\u001b[0mx\u001b[0m\u001b[1;33m,\u001b[0m\u001b[0my\u001b[0m\u001b[1;33m)\u001b[0m\u001b[1;33m)\u001b[0m\u001b[1;33m\u001b[0m\u001b[1;33m\u001b[0m\u001b[0m\n\u001b[0;32m     20\u001b[0m \u001b[1;33m\u001b[0m\u001b[0m\n\u001b[1;32m---> 21\u001b[1;33m \u001b[0msolve\u001b[0m\u001b[1;33m(\u001b[0m\u001b[0mf\u001b[0m\u001b[1;33m,\u001b[0m\u001b[0mx\u001b[0m\u001b[1;33m)\u001b[0m\u001b[1;33m\u001b[0m\u001b[1;33m\u001b[0m\u001b[0m\n\u001b[0m",
      "\u001b[1;32mC:\\ProgramData\\Anaconda3\\lib\\site-packages\\sympy\\solvers\\solvers.py\u001b[0m in \u001b[0;36msolve\u001b[1;34m(f, *symbols, **flags)\u001b[0m\n\u001b[0;32m    914\u001b[0m     \u001b[0mbare_f\u001b[0m \u001b[1;33m=\u001b[0m \u001b[1;32mnot\u001b[0m \u001b[0miterable\u001b[0m\u001b[1;33m(\u001b[0m\u001b[0mf\u001b[0m\u001b[1;33m)\u001b[0m\u001b[1;33m\u001b[0m\u001b[1;33m\u001b[0m\u001b[0m\n\u001b[0;32m    915\u001b[0m     ordered_symbols = (symbols and\n\u001b[1;32m--> 916\u001b[1;33m                        \u001b[0msymbols\u001b[0m\u001b[1;33m[\u001b[0m\u001b[1;36m0\u001b[0m\u001b[1;33m]\u001b[0m \u001b[1;32mand\u001b[0m\u001b[1;33m\u001b[0m\u001b[1;33m\u001b[0m\u001b[0m\n\u001b[0m\u001b[0;32m    917\u001b[0m                        (isinstance(symbols[0], Symbol) or\n\u001b[0;32m    918\u001b[0m                         is_sequence(symbols[0],\n",
      "\u001b[1;31mValueError\u001b[0m: The truth value of an array with more than one element is ambiguous. Use a.any() or a.all()"
     ]
    }
   ],
   "source": [
    "import numpy as np\n",
    "from sympy import roots, solve, symbols\n",
    "\n",
    "import matplotlib.pyplot as plt \n",
    "\n",
    "\n",
    "def f(x):\n",
    "    #return -(1.01*x-10)**2 +82*x+100\n",
    "    return 1000*2.71**(-(0.8*x-30)**2/2*0.1**2)\n",
    "\n",
    "\n",
    "x = np.linspace(0,100, 256, endpoint=True)\n",
    "y=f(x)\n",
    "plt.axhline(linewidth=1,color = 'black')\n",
    "plt.axvline(linewidth=1,color = 'black')\n",
    "plt.ylabel('Government revenue')\n",
    "plt.xlabel('Tax rate')\n",
    "\n",
    "plt.show(plt.plot(x,y)) \n",
    "\n",
    "solve(f,x)"
   ]
  },
  {
   "cell_type": "markdown",
   "metadata": {},
   "source": [
    "So in this imaginary scenario, it is easy to convince yourself that if the government would tax its citizens a 0% tax rate, it wouldn't collect any tax revenue. Look at the figure above to make sure you understand why this is the case. Arguably, if the government would tax an outrageous amount like for example 100% of your income, presumably no one would bother to work since the entire paycheck would be taken away by government in the form of taxes, so the government would also collect 0 revenue. \n",
    "\n",
    "Your task in this exercise is to:\n",
    "\n",
    "<ol start=\"2\">\n",
    "\n",
    "<li>\n",
    "Find out the appropriate tax rate that the New Zealand government should apply on its citizens in order to **maximize** its revenue using the tools of the `sympy` package for symbolic differentiation and for finding the roots/solutions of polynomial functions. \n",
    "</li></ol>\n",
    "\n",
    "Obviously, this is a silly exercise since you can look at the plot above and figure out that the optimal tax rate would be around 40%. In the real world, models of reality are often multivariate, they depend on several independent variables, where perhaps $f(x, y, z, h)$ models government revenue as a function of $x$ (tax rate), $y$ (GDP growth), $z$ (inflation) and $h$ (unemployment rate). With such multivariate functions, you cannot look at a plot of the function since we cannot visualize functions in more than three dimensions. Hence, we need to optimize the function using algorithms for either symbolic differentiation or numerical differentiation. For this exercise, symbolic differentiation should suffice."
   ]
  },
  {
   "cell_type": "code",
   "execution_count": 3,
   "metadata": {},
   "outputs": [
    {
     "data": {
      "text/plain": [
       "[37.5000000000000]"
      ]
     },
     "execution_count": 3,
     "metadata": {},
     "output_type": "execute_result"
    }
   ],
   "source": [
    "import sympy as sp\n",
    "\n",
    "x = sp.Symbol('x')\n",
    "f=1000*2.71**(-(0.8*x-30)**2/2*0.1**2)\n",
    "\n",
    "df = sp.diff(f,x) \n",
    "\n",
    "sp.solve(df,x)\n",
    "\n",
    "# 37.5"
   ]
  },
  {
   "cell_type": "markdown",
   "metadata": {},
   "source": [
    "## Numerical integration\n",
    "\n",
    "<ol start=\"3\">\n",
    "<li>\n",
    "Let's say the following curve simulates the rate of change of trade deficits (or surpluses) in New Zealand over a 6 years time period. A trade deficit occurs when the amount of imports exceeds the amount of exports in a country). Using a numerical integration algorithm available in the `scipy` module, calculate the total volume of trade surplus from year 1 to year 3. That is, calculate the area under the curve $3(x-3)^3+(x-3)^2-10(x-3)$ from $x=1$ to $x=3$ using a numerical method.\n",
    "</li></ol>"
   ]
  },
  {
   "cell_type": "code",
   "execution_count": null,
   "metadata": {},
   "outputs": [],
   "source": [
    "%matplotlib inline\n",
    "import matplotlib.pyplot as plt\n",
    "import numpy as np\n",
    "\n",
    "def f(x):\n",
    "    return 3*(x-3)**3+(x-3)**2-10*(x-3)\n",
    "\n",
    "\n",
    "x=np.linspace(0, 6)\n",
    "plt.axhline(linewidth=1,color = 'black')\n",
    "plt.axvline(linewidth=1,color = 'black')\n",
    "plt.xlabel('Years')\n",
    "plt.ylabel('Trade surplus/deficit')\n",
    "\n",
    "                                                                                                                                                                                                                                                                                                                   \n",
    "plt.plot(x,f(x)) #Plot f(x)"
   ]
  },
  {
   "cell_type": "code",
   "execution_count": null,
   "metadata": {},
   "outputs": [],
   "source": [
    "from scipy.integrate import quad\n",
    "\n",
    "def f(x):\n",
    "    return 3*(x-3)**3+(x-3)**2-10*(x-3)\n",
    "\n",
    "i=quad(f,1,3)\n",
    "print(i)"
   ]
  },
  {
   "cell_type": "markdown",
   "metadata": {},
   "source": [
    "## Differential equations\n",
    "\n",
    "Differential equations can be used to simulate/model all sorts of physical systems. In computational neuroscience, models of neural firing are used to simulate biological neurons in silico.\n",
    "\n",
    "A biological neuron communicates with other neurons by electrical impulses called action potentials or spikes. For example, the following figure shows the voltage of a neuron over time. Notice the existence of 6 action potentials (spikes), that is how a neuron communicates with other neurons with which it is connected via synapses. \n",
    "\n",
    "![](./images/nf.gif)\n",
    "A popular algorithmic for simulating the spiking activity of a neuron is the Eugene Izhikevich model."
   ]
  },
  {
   "cell_type": "markdown",
   "metadata": {},
   "source": [
    "For this exercise, you need to read only the first page of the following scientific paper: [IzhikevichModel](./resources/IzhikevichModel.pdf). Don't worry about the technical details. But you need to understand the paper enough in order to extract the key 2 differential equations that govern the behavior of the rate of change of the voltage $\\large \\frac{dv}{dt}$ and the rate of change of the neuron's membrane recovery variable $\\large \\frac{du}{dt}$. \n",
    "<ol start=\"4\">\n",
    "\n",
    "<li>\n",
    "Insert the $\\large \\frac{dv}{dt}$ and $\\large \\frac{du}{dt}$ equations in the proper locations in the code snippet below, and you should get a working model of a spiking neuron. For the constants $a$ and $b$ used the parameters suggested by the paper. Below the code snippet, I provide a visual representation of simulation output you should get if you complete the implementation of the model.\n",
    "</li> </ol>"
   ]
  },
  {
   "cell_type": "code",
   "execution_count": null,
   "metadata": {},
   "outputs": [],
   "source": [
    "from numpy import* \n",
    "from pylab import*\n",
    "# simulating the Eugene Izhikevich model \n",
    "\n",
    "\n",
    "def funca(v,u,I):\n",
    "    #Returns  dv/dt  \n",
    "    return (0.04 * v **2) + (5 * v) + (140 - u) + I\n",
    "    \n",
    "def funcb(v,u):\n",
    "    #Returns du/dt \n",
    "    a = 0.02\n",
    "    b = 0.2\n",
    "    return a * (b * v - u)\n",
    "t_sim = 100 # simulation time \n",
    "dt = 0.25 #time step \n",
    "time = arange(0,t_sim,dt) \n",
    "V = zeros(len(time))\n",
    "U = zeros(len(time))\n",
    "V[0] = -70\n",
    "U[0] = 0.2*V[0]\n",
    "T1 = 1\n",
    "for i in range(1,380):\n",
    "    if i < 350:\n",
    "        I = 14 \n",
    "    else:\n",
    "        I = 0\n",
    "    V[i] = V[i-1] + dt*funca(V[i-1],U[i-1],I)\n",
    "    U[i] = U[i-1] + dt*funcb(V[i-1],U[i-1])\n",
    "    #print(\"%f\" % V[i])\n",
    "    if (V[i] >= 30):\n",
    "        V[i] = -65 \n",
    "        U[i] = U[i] + 6\n",
    "    \n",
    "            \n",
    "plot(time, V )\n",
    "title('Izhikevich Model')\n",
    "ylabel('Membrane Potential (V)')\n",
    "xlabel\n",
    "show() "
   ]
  },
  {
   "cell_type": "markdown",
   "metadata": {},
   "source": [
    "![](./images/im.png)"
   ]
  },
  {
   "cell_type": "markdown",
   "metadata": {},
   "source": [
    "## Linear data structures\n",
    "\n",
    "\n",
    "<ol start=\"5\">\n",
    "\n",
    "<li>\n",
    "Observe the following visual representation of an algorithm that converts a number in base 10 into its binary representation. Notice the <b>sequence</b> of computational outputs generated. Implement this algorithm using the proper linear data structure.\n",
    "</li> </ol>\n",
    "\n",
    "<img src=\"./images/lds1.png\" width=30%/>"
   ]
  },
  {
   "cell_type": "code",
   "execution_count": 6,
   "metadata": {},
   "outputs": [
    {
     "name": "stdout",
     "output_type": "stream",
     "text": [
      "1\n",
      "1\n",
      "1\n",
      "0\n",
      "1\n",
      "0\n"
     ]
    }
   ],
   "source": [
    "class Stack:\n",
    "    def __init__(self):\n",
    "        self.items = []\n",
    "\n",
    "    def isEmpty(self):\n",
    "        return self.items == []\n",
    "\n",
    "    def push(self, item):\n",
    "        self.items.append(item)\n",
    "\n",
    "    def pop(self):\n",
    "        return self.items.pop()\n",
    "\n",
    "    def peek(self):\n",
    "        return self.items[len(self.items)-1]\n",
    "\n",
    "    def size(self):\n",
    "        return len(self.items)\n",
    "\n",
    "\n",
    "S = Stack()\n",
    "\n",
    "num = 58\n",
    "\n",
    "while num > 0:\n",
    "    S.push(num % 2)\n",
    "    num //= 2\n",
    "    \n",
    "while S.isEmpty() == False :\n",
    "    print(S.pop())\n",
    "\n",
    "    "
   ]
  },
  {
   "cell_type": "markdown",
   "metadata": {},
   "source": [
    "<ol start=\"6\">\n",
    "<li>\n",
    "Implement a Queue data structure where enqueueing an element takes $O(1)$ time and removing an element from the front of the queue takes $O(n)$. Empirically prove that this is the case using an experimental simulation and plot the results.\n",
    "</li> </ol>"
   ]
  },
  {
   "cell_type": "code",
   "execution_count": 1,
   "metadata": {},
   "outputs": [
    {
     "data": {
      "image/png": "[encoded data removed]",
      "text/plain": [
       "<Figure size 432x288 with 1 Axes>"
      ]
     },
     "metadata": {
      "needs_background": "light"
     },
     "output_type": "display_data"
    }
   ],
   "source": [
    "%matplotlib inline\n",
    "import timeit\n",
    "import time\n",
    "import random\n",
    "import matplotlib.pyplot as plt\n",
    "class Queue:\n",
    "    def __init__(self):\n",
    "        self.items = []\n",
    "\n",
    "    def isEmpty(self):\n",
    "        return self.items == []\n",
    "\n",
    "    def enqueue(self, item):\n",
    "        self.items.append(item)\n",
    "\n",
    "    def dequeue(self):\n",
    "        return self.items.pop(0)\n",
    "\n",
    "    def size(self):\n",
    "        return len(self.items)\n",
    "pzList = []\n",
    "ptList = []   \n",
    "\n",
    "\n",
    "listSizeStart = 1000\n",
    "listSizeEnd = 100000001\n",
    "stepSize = 10000000\n",
    "number = 10000\n",
    "\n",
    "tQueue = Queue()\n",
    "eQueue = Queue()\n",
    "\n",
    "for i in range(listSizeStart,listSizeEnd,stepSize):\n",
    "\n",
    "    tQueue = Queue()\n",
    "    for n in range(0,i):\n",
    "        tQueue.enqueue(n)\n",
    "    \n",
    "    enStartTime = time.time()\n",
    "    # b+ is for \"blue cross\"\n",
    "    tQueue.enqueue(i)\n",
    "    enEndTime = time.time()\n",
    "    pzList.append(enEndTime - enStartTime)\n",
    "\n",
    "    deStartTime =  time.time()\n",
    "\n",
    "    # \"bo\" is for \"blue dot\"\n",
    "    tQueue.dequeue()\n",
    "    deEndTime = time.time()\n",
    "    ptList.append( deEndTime-deStartTime )\n",
    "    \n",
    "# b+ is for \"blue cross\"\n",
    "plt.plot(range(listSizeStart,listSizeEnd,stepSize), ptList, 'b+', label='Dequeue')\n",
    "# \"bo\" is for \"blue dot\"\n",
    "plt.plot(range(listSizeStart,listSizeEnd,stepSize), pzList, 'bo', label='Enqueue')\n",
    "plt.ylabel('Time (in seconds) to to complete contains operation')\n",
    "plt.xlabel('Size of list or dictionary')\n",
    "plt.legend()\n",
    "plt.xticks(range(listSizeStart,listSizeEnd,stepSize))\n",
    "plt.xticks(rotation=50)\n",
    "plt.show()"
   ]
  },
  {
   "cell_type": "markdown",
   "metadata": {},
   "source": [
    "<ol start=\"7\">\n",
    "<li>\n",
    "<b>(Hard)</b> Implement a Queue using just 2 instances of the provided Stack Data structure. That is, you're not allowed to use a list or any other data structure beyond the Stack, to implement your queue.\n",
    "</li> </ol>"
   ]
  },
  {
   "cell_type": "code",
   "execution_count": null,
   "metadata": {},
   "outputs": [],
   "source": [
    "# Double ended que\n",
    "\n",
    "\n",
    "class Stack:\n",
    "    def __init__(self):\n",
    "        self.items = []\n",
    "\n",
    "    def isEmpty(self):\n",
    "        return self.items == []\n",
    "\n",
    "    def push(self, item):\n",
    "        self.items.append(item)\n",
    "\n",
    "    def pop(self):\n",
    "        return self.items.pop()\n",
    "\n",
    "    def peek(self):\n",
    "        return self.items[len(self.items)-1]\n",
    "\n",
    "    def size(self):\n",
    "        return len(self.items)\n",
    "\n",
    "    \n",
    "class Staqueue:\n",
    "    def __init__(self):\n",
    "        self.instack = Stack()\n",
    "        self.outstack= Stack()\n",
    "\n",
    "    def isEmpty(self):\n",
    "        if(self.instack.isEmpty and self.outstack.isEmpty):\n",
    "            return True\n",
    "        else:\n",
    "            return False\n",
    "\n",
    "    def enqueue(self, item):\n",
    "        self.instack.push(item)\n",
    "\n",
    "    def dequeue(self):\n",
    "        if self.outstack.isEmpty:\n",
    "            while not self.instack.isEmpty():\n",
    "                self.outstack.push(self.instack.pop())\n",
    "            return self.outstack.pop()\n",
    "    def size(self):\n",
    "        return self.instack.size() + self.outstack.size() \n",
    "    \n",
    "\n",
    "    \n",
    "q=Staqueue()\n",
    "for i in range(10):\n",
    "    q.enqueue(i)\n",
    "for i in range(10):\n",
    "    print(q.dequeue())"
   ]
  },
  {
   "cell_type": "markdown",
   "metadata": {},
   "source": [
    "## Linked list\n",
    "\n",
    "<ol start=\"8\">\n",
    "<li>\n",
    "Add an `append` method to the `UnorderedList` data structure studied in class and modify the class accordingly so the `append` method has time complexity $O(1)$ and its implementation doesn't break the linked list structure and functionality. \n",
    "</li> </ol>"
   ]
  },
  {
   "cell_type": "code",
   "execution_count": null,
   "metadata": {},
   "outputs": [],
   "source": [
    "class Node:\n",
    "    def __init__(self,initdata):\n",
    "        self.data = initdata\n",
    "        self.next = None\n",
    "\n",
    "    def getData(self):\n",
    "        return self.data\n",
    "\n",
    "    def getNext(self):\n",
    "        return self.next\n",
    "\n",
    "    def setData(self,newdata):\n",
    "        self.data = newdata\n",
    "\n",
    "    def setNext(self,newnext):\n",
    "        self.next = newnext\n",
    "        \n",
    "        \n",
    "class UnorderedList:\n",
    "    \n",
    "    def __init__(self):\n",
    "        self.head = None\n",
    "        self.tail = None\n",
    "        \n",
    "    def isEmpty(self):\n",
    "        return self.head == None\n",
    "    \n",
    "    def size(self):\n",
    "        current = self.head\n",
    "        count = 0\n",
    "        while current != None:\n",
    "            count = count + 1\n",
    "            current = current.getNext()\n",
    "\n",
    "        return count\n",
    "    \n",
    "    def search(self,item):\n",
    "        current = self.head\n",
    "        found = False\n",
    "        while current != None and not found:\n",
    "            if current.getData() == item:\n",
    "                found = True\n",
    "            else:\n",
    "                current = current.getNext()\n",
    "\n",
    "        return found\n",
    "    \n",
    "    def remove(self,item):\n",
    "        current = self.head\n",
    "        previous = None\n",
    "        found = False\n",
    "        while not found and current.getNext():\n",
    "            if current.getData() == item:\n",
    "                found = True\n",
    "            else:\n",
    "                previous = current\n",
    "                current = current.getNext()\n",
    "        if current == self.tail:\n",
    "            self.tail = previous\n",
    "        if previous == None:\n",
    "            self.head = current.getNext()\n",
    "        else:\n",
    "            previous.setNext(current.getNext())\n",
    "    \n",
    "    def listPrint(self):\n",
    "        printval = self.head\n",
    "        while printval is not None:\n",
    "            print (printval.data)\n",
    "            printval = printval.next\n",
    "    \n",
    "    def append(self,item):\n",
    "        NewNode = Node(item)\n",
    "        if self.head is None:\n",
    "            self.head = NewNode\n",
    "            self.tail = NewNode\n",
    "            return\n",
    "        current = self.tail\n",
    "        current.setNext(Node(item))\n",
    "        self.tail = self.tail.getNext()\n",
    "\n",
    "    def add(self,item):\n",
    "        temp = Node(item)\n",
    "        temp.setNext(self.head)\n",
    "        self.head = temp\n",
    "        if self.tail == None:\n",
    "            self.tail= self.head\n",
    "        \n",
    "mylist = UnorderedList()\n",
    "mylist.append(1)\n",
    "mylist.add(5)\n",
    "mylist.append(9)\n",
    "mylist.append(8)\n",
    "mylist.append(2)\n",
    "mylist.remove(1)\n",
    "\n",
    "\n",
    "\n",
    "\n",
    "mylist.listPrint()\n",
    "\n"
   ]
  },
  {
   "cell_type": "markdown",
   "metadata": {},
   "source": [
    "## Recursion"
   ]
  },
  {
   "cell_type": "markdown",
   "metadata": {},
   "source": [
    "<ol start=\"9\">\n",
    "<li>\n",
    "Let's say you want to create an algorithm that counts the number of ways in which you can go up n steps in a staircase.  Let's assume that you can take a single, double, or triple step. Your algorithm should count the total number of possible ways you have available to go up the n steps. As an illustrative example. If the staircase only has three steps, there are 4 different  ways of going up:\n",
    "$$1,1,1$$\n",
    "$$1,2$$\n",
    "$$2,1$$\n",
    "$$3$$\n",
    "</li> </ol>"
   ]
  },
  {
   "cell_type": "code",
   "execution_count": null,
   "metadata": {},
   "outputs": [],
   "source": [
    "def findStep( n) :\n",
    "    if (n == 1 or n == 0) :\n",
    "        return 1\n",
    "    elif (n == 2) :\n",
    "        return 2\n",
    "     \n",
    "    else :\n",
    "        return findStep(n - 3) + findStep(n - 2) + findStep(n - 1)\n",
    " \n",
    "\n",
    "n = 3\n",
    "print(findStep(n))"
   ]
  },
  {
   "cell_type": "markdown",
   "metadata": {
    "collapsed": true
   },
   "source": [
    "Let's say you're working for a mega corporation with many business units. Each business unit has a candidate business opportunity to explore with an estimated cost and an associated potential profit. Furthermore, the corporation is constrained by a total budget. Let's code the data in the following manner:\n",
    "\n",
    "```\n",
    "profit = [120, 100, 60,10,50,90,100,80,40]\n",
    "cost = [90, 80, 30,3,15,20,50,60,30]\n",
    "Budget = 150\n",
    "\n",
    "```\n",
    "\n",
    "This means, business opportunity 1 costs 90 but will bring 120 in profit, Business opportunity 2, costs 80, but will bring 100 in profit... The last business opportunity costs 30 but will bring 40 in profit.\n",
    "\n",
    "<ol start=\"10\">\n",
    "<li>\n",
    "<b>(Hard)</b> Build a recursive algorithm that looks at possible combinations of business opportunities to implement in order to maximize the potential profit of the company. \n",
    "</li> </ol>\n",
    "Operate under the constraint that each business opportunity can either be exploited once or not at all. The company is not allowed to repeatedly exploit a business opportunity twice or more. That is, business opportunity 1, with a cost of 90 and a profit of 120, can either be exploited only once by your algorithm or not at all. But your algorithm cannot exploit this business opportunity twice or more times. Your algorithm should only output the total potential profit. You don't need to keep track of the specific combination of business opportunities.\n",
    "\n",
    "Hint: This problem is essentially a knapsack type of problem, a member of a family of problems that are classified as NP-Complete. NP-complete problems are particularly hard from a computational perspective because the only guaranteed way to solve them correctly is to use a brute force method where each candidate solution is tested one by one."
   ]
  },
  {
   "cell_type": "code",
   "execution_count": 5,
   "metadata": {},
   "outputs": [
    {
     "name": "stdout",
     "output_type": "stream",
     "text": [
      "350\n"
     ]
    }
   ],
   "source": [
    "def knapSack(W, wt, val, n):\n",
    " \n",
    "    if n == 0 or W == 0 :\n",
    "        return 0\n",
    "    if (wt[n-1] > W):\n",
    "        return knapSack(W, wt, val, n-1)\n",
    "    else:\n",
    "        return max(\n",
    "            val[n-1] + knapSack(\n",
    "                W-wt[n-1], wt, val, n-1),\n",
    "                knapSack(W, wt, val, n-1))\n",
    "   \n",
    "val = [120, 100, 60,10,50,90,100,80,40]\n",
    "wt = [90, 80, 30,3,15,20,50,60,30]\n",
    "W = 150\n",
    "n = len(val)\n",
    "print (knapSack(W, wt, val, n))"
   ]
  },
  {
   "cell_type": "markdown",
   "metadata": {},
   "source": [
    "## Dynamic programming\n",
    "\n",
    "<ol start=\"11\">\n",
    "<li>\n",
    "<b>(Hard)</b> Implement a dynamic programming algorithm that aligns 2 genetic sequences and determines the best global alignment.\n",
    "The scoring scheme to use is: match:1, mismatch:-2, gap:-1. Your algorithm should print out the total score of the alignment and the actual alignment.\n",
    "</li> \n",
    "</ol>\n",
    "\n",
    "```\n",
    "Sequence 1: CTTAGCATTAGCCGTAAACCGATGGATCGTCAATATACCGCG\n",
    "\n",
    "Sequence 2: CAGTAGCTTCAGCCTAGACCGAGGATCGAACAATATAACCCGCGCAT\n",
    "```\n"
   ]
  },
  {
   "cell_type": "code",
   "execution_count": 2,
   "metadata": {},
   "outputs": [
    {
     "data": {
      "text/plain": [
       "('CT--TAGCATT-AGCCGTAA-ACCGATGGATCGT--CAATAT-A-CCGCG---',\n",
       " 'C-AGTAGC-TTCAGCC-T-AGACCGA-GGATCG-AACAATATAACCCGCGCAT',\n",
       " 19)"
      ]
     },
     "execution_count": 2,
     "metadata": {},
     "output_type": "execute_result"
    }
   ],
   "source": [
    "import numpy as np\n",
    " \n",
    " \n",
    " \n",
    "def GET_SCORE(n1, n2, penalty = -2, reward = 1):\n",
    "     \n",
    "    if n1 == n2:\n",
    "        return reward\n",
    "    else:\n",
    "        return penalty\n",
    " \n",
    " \n",
    "def global_alignment(X, Y, penalty = -2, reward = 1):\n",
    "     \n",
    "    # initialize score matrix\n",
    "    score_matrix = np.ndarray((len(X) + 1, len(Y) + 1))\n",
    "      \n",
    "    for i in range(len(X) + 1):\n",
    "        score_matrix[i, 0] = penalty * i\n",
    "     \n",
    "    for j in range(len(Y) + 1):\n",
    "        score_matrix[0, j] = penalty * j\n",
    "         \n",
    "     \n",
    "    # define each cell in the matrix by as the max score possible in that stage\n",
    "    for i in range(1, len(X) + 1):\n",
    "        for j in range(1, len(Y) + 1):\n",
    "            match = score_matrix[i - 1, j - 1] + GET_SCORE(X[i - 1], Y[j - 1], penalty, reward)\n",
    "            delete = score_matrix[i -1, j] + penalty\n",
    "            insert = score_matrix[i, j - 1] + penalty\n",
    "             \n",
    "            score_matrix[i, j] = max([match, delete, insert])\n",
    "             \n",
    "     \n",
    "    i = len(X)\n",
    "    j = len(Y)\n",
    "     \n",
    "    align_X = \"\"\n",
    "    align_Y = \"\"\n",
    "    total_score = 0 \n",
    "    while i > 0 or j > 0:\n",
    "         \n",
    "        current_score = score_matrix[i, j]\n",
    "        left_score = score_matrix[i - 1, j]\n",
    "         \n",
    "         \n",
    "        if i > 0 and j > 0 and X[i - 1] == Y[j - 1]:\n",
    "            align_X = X[i - 1] + align_X\n",
    "            align_Y = Y[j - 1] + align_Y\n",
    "            i = i - 1\n",
    "            j = j - 1\n",
    "            total_score+= 1\n",
    "         \n",
    "        elif i > 0 and current_score == left_score + penalty:\n",
    "            align_X = X[i - 1] + align_X\n",
    "            align_Y = \"-\" + align_Y\n",
    "            i = i - 1\n",
    "            total_score-= 1 \n",
    "        else:\n",
    "            align_X = \"-\" + align_X\n",
    "            align_Y = Y[j - 1] + align_Y\n",
    "            j = j - 1\n",
    "            total_score-= 1 \n",
    " \n",
    "    return align_X, align_Y, total_score\n",
    "\n",
    "X = \"CTTAGCATTAGCCGTAAACCGATGGATCGTCAATATACCGCG\"\n",
    "Y = \"CAGTAGCTTCAGCCTAGACCGAGGATCGAACAATATAACCCGCGCAT\"\n",
    "global_alignment(X, Y)"
   ]
  },
  {
   "cell_type": "markdown",
   "metadata": {},
   "source": [
    "## Linear algebra\n",
    "\n",
    "<ol start=\"12\">\n",
    "<li>\n",
    "A machine/company/organization is constrained by the following system of equations. Using the `numpy` linear algebra library, use the relevant <b>equation</b> to find the solution for $x,y,z$ that simultaneously satisfies all constraints imposed by the system below. Notice that simply calling the `solve` method of a library for solving systems of linear equations is not a valid answer. You need to computationally solve the equation yourself using matrix algebra.\n",
    "\n",
    "$$\n",
    "x + y + z = 25 \\\\\\\\\n",
    "5x + 3y + 2z = 0 \\\\\\\\\n",
    "y + -z = 6 \\\\\\\\\n",
    "$$\n",
    "</li> "
   ]
  },
  {
   "cell_type": "code",
   "execution_count": null,
   "metadata": {},
   "outputs": [],
   "source": [
    "import numpy as np\n",
    "\n",
    "A = np.array([[1, 1, 1], [5, 3, 2], [0, 1, -1]])\n",
    "B = np.array([[25],[0], [6]])\n",
    "X = np.linalg.inv(A).dot(B)\n",
    "\n",
    "print(X)"
   ]
  },
  {
   "cell_type": "markdown",
   "metadata": {},
   "source": [
    "<ol start=\"13\">\n",
    "<li>\n",
    "Think about how to use linear algebra techniques to rotate an image by a small angle clockwise. This exercise is not trivial, a computer graphics library would carry out a number of subsequent operations to optimize the result: denoising filters, translation, interpolation, etc. for the purpose of this exercise, a rough rotation with loss of image quality and improper alignment should suffice. Check the example output I provide. That's all you need to achieve. Again, simply calling the rotate method of an image processing library is not enough. You need to algorithmically solve the problem using linear algebra.\n",
    "</li> </ol>"
   ]
  },
  {
   "cell_type": "code",
   "execution_count": null,
   "metadata": {},
   "outputs": [],
   "source": [
    "from matplotlib.image import imread\n",
    "\n",
    "image = imread('./images/ce.jpg')[:,:,0] #just getting the first of the 3 RGB channels\n",
    "print(image.shape, image.dtype)\n",
    "\n",
    "\n",
    "import matplotlib.pyplot as plt\n",
    "plt.figure(figsize=(9, 6))\n",
    "# Plot the grid\n",
    "plt.imshow(image)\n",
    "plt.gray()\n",
    "plt.show()"
   ]
  },
  {
   "cell_type": "markdown",
   "metadata": {},
   "source": [
    "This is the output you are supposed to get:\n",
    "\n",
    "![](./images/cer.png)"
   ]
  },
  {
   "cell_type": "markdown",
   "metadata": {},
   "source": [
    "![](./images/ce.png)"
   ]
  },
  {
   "cell_type": "code",
   "execution_count": null,
   "metadata": {},
   "outputs": [],
   "source": [
    "from matplotlib.image import imread\n",
    "import numpy as np\n",
    "image = imread('./images/ce.jpg')[:,:,0] #just getting the first of the 3 RGB channels\n",
    "\n",
    "theta = np.radians(18)\n",
    "r = np.array([[ np.cos(theta), np.sin(theta)],[-np.sin(theta), np.cos(theta)]])  # Rotation Matirx \n",
    "image2 = np.zeros((image.shape))\n",
    "h,w = image.shape\n",
    "\n",
    "for i in range(h):\n",
    "    for j in range(w):\n",
    "        newarr = r@np.array([i,j])\n",
    "        try:\n",
    "            image2[int(newarr[0]),int(newarr[1])] = image[i,j]\n",
    "        except:\n",
    "            pass\n",
    "\n",
    "\n",
    "\n",
    "\n",
    "import matplotlib.pyplot as plt\n",
    " #Plot the grid\n",
    "plt.figure(figsize=(9, 6))\n",
    "# Plot the grid\n",
    "plt.imshow(image2)\n",
    "plt.gray()\n",
    "plt.show()"
   ]
  },
  {
   "cell_type": "markdown",
   "metadata": {},
   "source": [
    "<ol start=\"14\">\n",
    "<li>\n",
    "Create a mirror representation of the following image using the appropriate modification to the solution above.\n",
    "</li></ol>"
   ]
  },
  {
   "cell_type": "code",
   "execution_count": null,
   "metadata": {},
   "outputs": [],
   "source": [
    "from matplotlib.image import imread\n",
    "import numpy as np\n",
    "image = imread('./images/ce.jpg')[:,:,0] #just getting the first of the 3 RGB channels\n",
    "\n",
    "theta = np.radians(30)\n",
    "r = np.array([[1, 0],[0, -1]]) # Rotation Matirx \n",
    "image2 = np.zeros((image.shape))\n",
    "h,w = image.shape\n",
    "\n",
    "for i in range(h):\n",
    "    for j in range(w):\n",
    "        newarr = r@np.array([i,j])\n",
    "        try:\n",
    "            image2[int(newarr[0]),int(newarr[1])] = image[i,j]\n",
    "        except:\n",
    "            pass\n",
    "\n",
    "\n",
    "import matplotlib.pyplot as plt\n",
    " #Plot the grid\n",
    "plt.figure(figsize=(9, 6))\n",
    "# Plot the grid\n",
    "plt.imshow(image2)\n",
    "plt.gray()\n",
    "plt.show()"
   ]
  },
  {
   "cell_type": "markdown",
   "metadata": {},
   "source": [
    "This is the output you are supposed to get:\n",
    "\n",
    "![](./images/cem.png)"
   ]
  },
  {
   "cell_type": "markdown",
   "metadata": {},
   "source": [
    "<ol start=\"15\">\n",
    "<li>\n",
    "A company is trying to an optimization problem subjected to the following constraints. Try to solve for $x,y,z$ and if it is not possible, try to find the closest optimal point. Do not call a method for finding the least-squares solutions. The least-squares solutions is just one application of many that the concept asked for in this question allows.\n",
    "\n",
    "$$\n",
    "x +  z = 1 \\\\\\\\\n",
    "x + y + z = 2 \\\\\\\\\n",
    "x + -y + z = 1 \\\\\\\\\n",
    "$$\n",
    "</li> </ol>"
   ]
  },
  {
   "cell_type": "code",
   "execution_count": null,
   "metadata": {},
   "outputs": [],
   "source": [
    "import numpy as np\n",
    "\n",
    "A = np.array([[1, 0, 1], [1, 1, 1], [1, -1, 1]])\n",
    "aPlus = np.linalg.pinv(A)\n",
    "aPlus\n",
    "\n",
    "b = np.array([[1], [2], [1]])\n",
    "res = aPlus.dot(b)\n",
    "res"
   ]
  },
  {
   "cell_type": "markdown",
   "metadata": {},
   "source": [
    "<ol start=\"16\">\n",
    "<li>\n",
    "Let's say the following quadratic function $Cost=2x^2+(3+4)xy+5y^2$ represents a financial cost that your organization obviously wants to minimize. Use eigenvalue decomposition to find the minimum value of the function and its corresponding coordinates. Explicitly indicate what is the minimum in your solution and its corresponding coordinates. Obviously, this problem is trivial in 3D since you can visually inspect the function in order to estimate the optimal minimum. In real problems, equations that describe complex systems can easily hold dozens or hundreds of variables. Visualization in those situations is not possible. Hence, the need for optimization algorithms.\n",
    "</li> </ol>"
   ]
  },
  {
   "cell_type": "code",
   "execution_count": null,
   "metadata": {},
   "outputs": [],
   "source": [
    "import numpy as np\n",
    "from mpl_toolkits.mplot3d import Axes3D\n",
    "import matplotlib.pyplot as plt\n",
    "import random\n",
    "\n",
    "def fun(x, y):\n",
    "    return 2*x**2 + (3+4)*x*y + 5*y**2\n",
    "    #return 6*x**2 + (1+2)*x*y + 5*y**2\n",
    "fig = plt.figure(figsize=(8, 6))\n",
    "ax = fig.add_subplot(111, projection='3d')\n",
    "x = y = np.arange(-3.0, 3.0, 0.05)\n",
    "X, Y = np.meshgrid(x, y)\n",
    "zs = np.array([fun(x,y) for x,y in zip(np.ravel(X), np.ravel(Y))])\n",
    "Z = zs.reshape(X.shape)\n",
    "\n",
    "ax.plot_surface(X, Y, Z,cmap='summer')\n",
    "\n",
    "ax.set_xlabel('x')\n",
    "ax.set_ylabel('y')\n",
    "ax.set_zlabel('Cost')\n",
    "\n",
    "ax.view_init(azim=20,elev=20)\n",
    "plt.show()"
   ]
  },
  {
   "cell_type": "code",
   "execution_count": null,
   "metadata": {},
   "outputs": [],
   "source": [
    "A = np.array([[2, 3], [4, 5]])\n",
    "eigVals, eigVecs = np.linalg.eig(A)\n",
    "eigVals\n",
    "eigVecs"
   ]
  },
  {
   "cell_type": "markdown",
   "metadata": {},
   "source": [
    "# Singular Value Decomposition as a data compression algorithm \n",
    "\n",
    "SVD can be used to extract the more important features from an image. Let's start by loading an image in python and convert it to a Numpy array. The shape of the matrix corresponds to the dimension of the image filled with intensity values: 1 cell per pixel."
   ]
  },
  {
   "cell_type": "code",
   "execution_count": null,
   "metadata": {},
   "outputs": [],
   "source": [
    "from PIL import Image\n",
    "import matplotlib.pyplot as plt\n",
    "\n",
    "import numpy as np\n",
    "plt.style.use('classic')\n",
    "img = Image.open('./images/dog.jpg')\n",
    "# convert image to grayscale\n",
    "imggray = img.convert('LA')\n",
    "# convert to numpy array\n",
    "imgmat = np.array(list(imggray.getdata(band=0)), float)\n",
    "# Reshape according to orginal image dimensions\n",
    "imgmat.shape = (imggray.size[1], imggray.size[0])\n",
    "\n",
    "plt.figure(figsize=(9, 6))\n",
    "plt.imshow(imgmat, cmap='gray')\n",
    "plt.show()\n",
    "imgmat.shape"
   ]
  },
  {
   "cell_type": "markdown",
   "metadata": {},
   "source": [
    "<ol start=\"17\">\n",
    "<li>\n",
    "Carry out singular value decomposition on the image above and reconstruct the image using only the top 50 singular vector components. What compression ratio have you achieved?\n",
    "</li></ol>\n"
   ]
  },
  {
   "cell_type": "code",
   "execution_count": null,
   "metadata": {},
   "outputs": [],
   "source": [
    "from PIL import Image\n",
    "import matplotlib.pyplot as plt\n",
    "\n",
    "import numpy as np\n",
    "plt.style.use('classic')\n",
    "img = Image.open('./images/dog.jpg')\n",
    "# convert image to grayscale\n",
    "imggray = img.convert('LA')\n",
    "# convert to numpy array\n",
    "imgmat = np.array(list(imggray.getdata(band=0)), float)\n",
    "# Reshape according to orginal image dimensions\n",
    "imgmat.shape = (imggray.size[1], imggray.size[0])\n",
    "\n",
    "plt.figure(figsize=(9, 6))\n",
    "plt.imshow(imgmat, cmap='gray')\n",
    "plt.show()\n",
    "imgmat.shape\n",
    "\n",
    "\n",
    "#50 singular vector components = R"
   ]
  },
  {
   "cell_type": "markdown",
   "metadata": {},
   "source": [
    "<ol start=\"18\">\n",
    "\n",
    "<li>\n",
    "The following plot shows in red the desire quantitative state of a machine or environmental variable (y axis) over time (x axis). In blue is the quantitative metric monitoring the machine or environmental variable. Improve the performance of the machine by implementing a better version of the Proportional–Integral-Derivative (PID) Controller so that the environmental estate comes (blue) resembles as close as possible the desired set state (red).</li>    "
   ]
  },
  {
   "cell_type": "code",
   "execution_count": null,
   "metadata": {},
   "outputs": [],
   "source": [
    "import numpy as np\n",
    "import matplotlib\n",
    "from matplotlib import pyplot as plt\n",
    "%matplotlib inline\n",
    "from utils import Plant # simulator\n",
    "\n",
    "\n",
    "class PIDController(object):\n",
    "    def __init__(self, Kp=0.0, Ki=0.0, Kd=0.0):\n",
    "        self.Kp = Kp\n",
    "        self.Ki = Ki\n",
    "        self.Kd = Kd\n",
    "        self.previous = 0\n",
    "        self.accumulatedError = [0]\n",
    "        \n",
    "    def update(self, error, delta_t):\n",
    "        \n",
    "        delta_e = error - self.previous\n",
    "        d_e = delta_e / delta_t\n",
    "        self.previous = error\n",
    "        \n",
    "        self.accumulatedError = self.accumulatedError + error\n",
    "        integral = self.accumulatedError * delta_t\n",
    "        \n",
    "        p = self.Kp * error\n",
    "        i = self.Ki * integral\n",
    "        d = self.Kd * d_e\n",
    "        \n",
    "        return p + i + d\n",
    "    \n",
    "Kp = 1.9 #tune me!\n",
    "Ki = 0.5 #tune me!\n",
    "Kd = 7 #tune me!\n",
    "controller = PIDController(Kp, Ki, Kd)\n",
    "\n",
    " \n",
    "\n",
    "plant = Plant(controller, set_shift=False,noise=True)\n",
    "plant.simulate()"
   ]
  },
  {
   "cell_type": "code",
   "execution_count": null,
   "metadata": {},
   "outputs": [],
   "source": []
  },
  {
   "cell_type": "markdown",
   "metadata": {},
   "source": [
    "# Singular Value Decomposition to build a Recommendation engine\n",
    "\n",
    "Let's say you have the following data set of the ranking different users have given to different movies on online streaming service. A 0 means that the user has not watched the movie. A 1 means that the user didn't like the movie very much. A 5 means that the user liked the movie a lot. Every number in between indicates the degree of likeness of the movie."
   ]
  },
  {
   "cell_type": "code",
   "execution_count": null,
   "metadata": {},
   "outputs": [],
   "source": [
    "import numpy as np\n",
    "M = np.array([\n",
    "    [1, 1, 1, 0, 0],\n",
    "    [3, 3, 3, 0, 0],\n",
    "    [4, 4, 4, 0, 0],\n",
    "    [5, 5, 5, 0, 0],\n",
    "    [0, 2, 0, 4, 4],\n",
    "    [0, 0, 0, 5, 5],\n",
    "    [0, 1, 0, 2, 2]])"
   ]
  },
  {
   "cell_type": "code",
   "execution_count": null,
   "metadata": {},
   "outputs": [],
   "source": [
    "import pandas as pd\n",
    "I = pd.Index([\"Paul\", \"Robert\", \"Peter\", \"Susan\",\"Maria\",\"Sarah\",\"Tom\"], name=\"rows\")\n",
    "C = pd.Index([\"Matrix mega ultra super reloaded\", \"Nonstop car chases\", \"Predatory vs Alien vs Terminator\", \n",
    "              \"Love at first sight in Dunedin\", \"Love is all you need\"], name=\"columns\")\n",
    "df = pd.DataFrame(data=M, index=I, columns=C)\n",
    "df"
   ]
  },
  {
   "cell_type": "markdown",
   "metadata": {},
   "source": [
    "<ol start=\"19\">\n",
    "\n",
    "<li>\n",
    "Let's say you have 2 new users (*u1* and *u2*) of your service that only watched a few of the movies and provided the following liking ratings:\n",
    "    \n",
    "```\n",
    "u1 = np.array([0,5,4,0,0])\n",
    "u2 = np.array([1,1,0,5,0])  \n",
    "```\n",
    "\n",
    "We also have 2 new movies that have already been rated by a few users:\n",
    "``` \n",
    "m1 = np.array([0,5,0,0,1,0,1])\n",
    "m2 = np.array([1,0,1,0,5,0,1])\n",
    "```\n",
    "</li>    \n",
    "Your task is:\n",
    "\n",
    "- quantify how much each of these users would like action movies and how much they would like romance movies:\n",
    "- quantify whether each of the new movies is an action film or a romance film"
   ]
  },
  {
   "cell_type": "code",
   "execution_count": null,
   "metadata": {},
   "outputs": [],
   "source": []
  },
  {
   "cell_type": "markdown",
   "metadata": {},
   "source": [
    "## Artificial neural networks"
   ]
  },
  {
   "cell_type": "markdown",
   "metadata": {},
   "source": [
    "Artificial neuron networks are the most powerful and successful learning algorithm that exists. In this exercise you will implement a neural network model that is trained to recognize images of handwritten digits.\n",
    "\n",
    "Let's load a famous data set of black and white 70,000 images of handwritten digits. The data set is divided into three subsets (train, validation and test sets) as custom practice in machine learning applications. Don't worry too much about the details of the data set, the focus of this exercise is on implementing the learning algorithm. "
   ]
  },
  {
   "cell_type": "code",
   "execution_count": null,
   "metadata": {},
   "outputs": [],
   "source": [
    "import matplotlib.pyplot as plt\n",
    "import mnist_loader\n",
    "import random\n",
    "import numpy as np\n",
    "from sklearn.utils import shuffle\n",
    "\n",
    "training_data, validation_data, test_data = mnist_loader.load_data_wrapper()\n",
    "X_train,y_train=zip(*training_data)\n",
    "X_validation,y_validation=zip(*validation_data)\n",
    "X_test,y_test=zip(*test_data)"
   ]
  },
  {
   "cell_type": "markdown",
   "metadata": {},
   "source": [
    "It is easy to visualize an image of the data set"
   ]
  },
  {
   "cell_type": "code",
   "execution_count": null,
   "metadata": {},
   "outputs": [],
   "source": [
    "dataIntanceIndex=0\n",
    "x = X_train[dataIntanceIndex]\n",
    "pixels = np.array(x, dtype='float')\n",
    "pixels = pixels.reshape((28, 28))\n",
    "plt.imshow(pixels, cmap='gray')\n",
    "plt.show()"
   ]
  },
  {
   "cell_type": "markdown",
   "metadata": {},
   "source": [
    "This data set is labeled, that is for each image we have a label of what the did the image represents. The labels are encoded as vectors, where each position in the vector identifies a particular digit (i.e. index 0 identifies the number zero, index 1 identifies the number zero, etc."
   ]
  },
  {
   "cell_type": "code",
   "execution_count": null,
   "metadata": {},
   "outputs": [],
   "source": [
    "y=y_train[dataIntanceIndex]\n",
    "print(x)"
   ]
  },
  {
   "cell_type": "markdown",
   "metadata": {},
   "source": [
    "It is easy to identify what digit the above vector represents"
   ]
  },
  {
   "cell_type": "code",
   "execution_count": null,
   "metadata": {},
   "outputs": [],
   "source": [
    "print(np.argmax(y))"
   ]
  },
  {
   "cell_type": "markdown",
   "metadata": {},
   "source": [
    "The `ANN` class below is a partial implementation of an Artificial Neural Network. The code is not optimized for speed but rather for readability. You are asked to complete the implementation of the neural network by coding the following functionality:\n",
    "\n",
    "<ol start=\"20\">\n",
    "<li>Implement the sigmoid function using the numpy library to vectorize (i.e. accelerate) computation </li>"
   ]
  },
  {
   "cell_type": "markdown",
   "metadata": {},
   "source": [
    "<ol start=\"21\">\n",
    "<li>Implement the  appropriate methods calls to carry out the Gradient descent algorithm </li>    "
   ]
  },
  {
   "cell_type": "markdown",
   "metadata": {},
   "source": [
    "<ol start=\"22\">\n",
    "<li>Implement the `feedForwardInputSignal` method </li>    "
   ]
  },
  {
   "cell_type": "markdown",
   "metadata": {},
   "source": [
    "<ol start=\"23\">\n",
    "<li><b>(Hard)</b> Implement the `backpropagateErrorSignal`, `calculateGradientmethod` and `updateWeights` methods. if you get it right, after training you should get a prediction accuracy on the validation set above 90% </li>    "
   ]
  },
  {
   "cell_type": "code",
   "execution_count": null,
   "metadata": {},
   "outputs": [],
   "source": [
    "#SOLUTION\n",
    "import numpy as np\n",
    "import matplotlib.pyplot as plt\n",
    "import mnist_loader\n",
    "import random\n",
    "import numpy as np\n",
    "from sklearn.utils import shuffle\n",
    "\n",
    "\n",
    "\n",
    "class ANN(object):\n",
    "    def __init__(self, sizes):\n",
    "        \"\"\"The list ``sizes`` contains the number of neurons in each layer of the network. For example, if the list ``sizes``\n",
    "        is [2, 3, 1] then it would be a three-layer network, with the input layer containing 2 neurons, the second layer 3 neurons,\n",
    "        and the third layer 1 neuron.  The weights for the network are initialized with random values\"\"\"\n",
    "        self.num_layers = len(sizes)\n",
    "        self.sizes = sizes\n",
    "        self.weights_W = [np.random.randn(numberOfRows,numberOfColumns) for numberOfColumns, numberOfRows in zip(sizes[:-1], sizes[1:])]\n",
    "        self.inputs_Z=[np.zeros(w.shape) for w in self.weights_W]\n",
    "        self.activations_A=[np.zeros(w.shape) for w in self.weights_W]\n",
    "        self.deltas_D = [np.zeros(w.shape) for w in self.weights_W]\n",
    "        self.gradients_G = [np.zeros(w.shape) for w in self.weights_W]\n",
    "        self.biases = [np.random.randn(y, 1) for y in sizes[1:]]    \n",
    "    def sigmoid(self,z): #sigmoid function\n",
    "        return 1/(1 + np.exp(z))\n",
    "\n",
    "    def sigmoid_prime(self,z): # Derivative of the sigmoid function\n",
    "        return self.sigmoid(z)*(1-self.sigmoid(z))        \n",
    "    \n",
    "    def train(self, X_train, y_train, X_validation,y_validation, epochs, eta):\n",
    "        self.eta = eta\n",
    "        for epoch in range(epochs):\n",
    "            X_train, y_train = shuffle(np.array(X_train), np.array(y_train))\n",
    "            self.carryOutGradientDescent(X_train, y_train, X_validation,y_validation, epoch)\n",
    "\n",
    "    def carryOutGradientDescent(self, x, y, X_validation,y_validation, epoch):  \n",
    "        m_curr = b_curr = 0\n",
    "        iterations = 10000\n",
    "        n = float(len(x))\n",
    "        learning_rate = 0.08\n",
    "        y_predicted = m_curr * x + b_curr\n",
    "        cost = (1/n) * sum([val**2 for val in (y-y_predicted)])\n",
    "        m_calc = -(2/n)*sum(x*(y-y_predicted))\n",
    "        b_calc = -(2/n)*sum(y-y_predicted)\n",
    "        m_curr = m_curr - learning_rate * m_calc\n",
    "        b_curr = b_curr - learning_rate * b_calc\n",
    "        print (\"m {}, b {}, cost {} iteration {}\".format(m_curr,b_curr,cost, i))\n",
    "        accuracy=self.evaluate(X_validation,y_validation)\n",
    "        print(f\"Epoch {epoch}: {accuracy}% accuracy \")        \n",
    "\n",
    "            \n",
    "    def feedForwardInputSignal(self, x):\n",
    "        \"\"\"Return the output of the network given network input x\"\"\"\n",
    "        activation=x\n",
    "        self.activations_A = [x] # list to store all the activations, layer by layer\n",
    "        for b, w in zip(self.biases, self.weights_W):\n",
    "            x = np.argmax(self.sigmoid(np.dot(w, x)+b))\n",
    "        return x\n",
    "    \n",
    "    def backpropagateErrorSignal(self, x, y):\n",
    "        self.deltas_D[-1] = self.cost_derivative(self.activations_A[-1], y) * self.sigmoid_prime(self.inputs_Z[-1])\n",
    "        nabla_b[-1] = delta\n",
    "        nabla_w[-1] = np.dot(delta, activations[-2].transpose())\n",
    "        for l in range(2, self.num_layers):\n",
    "            z = zs[-l]\n",
    "            sp = sigmoid_prime(z)\n",
    "            delta = np.dot(self.weights[-l+1].transpose(), delta) * sp\n",
    "            nabla_b[-l] = delta\n",
    "            nabla_w[-l] = np.dot(delta, activations[-l-1].transpose())\n",
    "        return (nabla_b, nabla_w)    \n",
    "    \n",
    "#     def calculateGradient(self):\n",
    "#         ####-----------------\n",
    "#         #\n",
    "#         # YOUR CODE GOES HERE\n",
    "#         #\n",
    "#         ####-----------------\n",
    "\n",
    "#     def updateWeights(self):\n",
    "#         ####-----------------\n",
    "#         #\n",
    "#         # YOUR CODE GOES HERE\n",
    "#         #\n",
    "#         ####-----------------\n",
    "\n",
    "    def predict(self,x):\n",
    "        \"\"\"Note that the neural network's output is assumed to be the index of whichever neuron in the final layer has the highest activation.\"\"\"\n",
    "        prediction = np.argmax(self.feedForwardInputSignal(x))\n",
    "        return prediction\n",
    "            \n",
    "    def evaluate(self, X_validation, y_validation):\n",
    "        correctPredictions=0\n",
    "        for xIndex, x in enumerate(X_validation):\n",
    "            y = y_validation[xIndex]\n",
    "            prediction = self.predict(x)\n",
    "            if prediction==y:\n",
    "                correctPredictions+=1\n",
    "        \n",
    "        accuracy = correctPredictions/len(X_validation)\n",
    "        return accuracy\n",
    "\n",
    "    def cost_derivative(self, output_activations, y):\n",
    "        \"\"\"Return the vector of partial derivatives \\partial C_x \\partial a for the output activations.\"\"\"\n",
    "        return (output_activations-y)\n",
    "\n",
    "#Training the network    \n",
    "nn = ANN([784, 30, 10])\n",
    "nn.train(X_train,y_train,X_validation,y_validation, epochs=10, eta=0.3)        "
   ]
  },
  {
   "cell_type": "markdown",
   "metadata": {},
   "source": [
    "### Deliverables\n",
    "\n",
    "<ol start=\"24\">\n",
    "\n",
    "<li> You should hand in this python notebook file (.ipynb) containing all the necessary code to answer each of the previously enumerated tasks. Answer each question in its corresponding code cell. Use comments also to provide answers to questions expecting a natural language answer. If relevant for the task, after you implement a solution to a problem, include a bit of additional code to test/demonstrate that your solution works. Please, make sure your code runs smoothly so I can execute it in my computer. Name your Python notebook according to the following pattern: `yourLastName_ADS_A1.ipynb`. Create your own private repository for you to work on the assignment by using the following link: <a href=\"https://classroom.github.com/a/G6OYC4Xe\">https://classroom.github.com/a/G6OYC4Xe</a>. I will subsequently fetch the repository you create on the date the assignment is due. \n",
    "</li></ol>"
   ]
  }
 ],
 "metadata": {
  "anaconda-cloud": {},
  "kernelspec": {
   "display_name": "Python 3",
   "language": "python",
   "name": "python3"
  },
  "language_info": {
   "codemirror_mode": {
    "name": "ipython",
    "version": 3
   },
   "file_extension": ".py",
   "mimetype": "text/x-python",
   "name": "python",
   "nbconvert_exporter": "python",
   "pygments_lexer": "ipython3",
   "version": "3.7.4"
  }
 },
 "nbformat": 4,
 "nbformat_minor": 1
}
